{
  "nbformat": 4,
  "nbformat_minor": 0,
  "metadata": {
    "colab": {
      "name": "Datos externos: archivos locales, Drive, Hojas de cálculo y Cloud Storage",
      "provenance": [],
      "collapsed_sections": [],
      "include_colab_link": true
    },
    "kernelspec": {
      "display_name": "Python 3",
      "name": "python3"
    }
  },
  "cells": [
    {
      "cell_type": "markdown",
      "metadata": {
        "id": "view-in-github",
        "colab_type": "text"
      },
      "source": [
        "<a href=\"https://colab.research.google.com/github/wisrovi/visualizacion-cajamar/blob/main/Concurso_Cajamar_visualizacion_datos.ipynb\" target=\"_parent\"><img src=\"https://colab.research.google.com/assets/colab-badge.svg\" alt=\"Open In Colab\"/></a>"
      ]
    },
    {
      "cell_type": "markdown",
      "metadata": {
        "id": "7Z2jcRKwUHqV"
      },
      "source": [
        "Este cuaderno contiene recetas para cargar y guardar datos procedentes de fuentes externas."
      ]
    },
    {
      "cell_type": "markdown",
      "metadata": {
        "id": "eikfzi8ZT_rW"
      },
      "source": [
        "# Obtener los dataset de CAJAMAR"
      ]
    },
    {
      "cell_type": "code",
      "metadata": {
        "id": "6bw7-qNhQjPu"
      },
      "source": [
        "!git clone https://github.com/wisrovi/visualizacion-cajamar"
      ],
      "execution_count": null,
      "outputs": []
    },
    {
      "cell_type": "code",
      "metadata": {
        "id": "tCOSWvUoRPOV"
      },
      "source": [
        "!ls 'visualizacion-cajamar/'"
      ],
      "execution_count": null,
      "outputs": []
    },
    {
      "cell_type": "code",
      "metadata": {
        "id": "w2DUDhkjRssr"
      },
      "source": [
        "FOLDER_DATASET = 'visualizacion-cajamar/'"
      ],
      "execution_count": null,
      "outputs": []
    },
    {
      "cell_type": "markdown",
      "metadata": {
        "id": "mcd8sNxTRdaV"
      },
      "source": [
        "# Leer los dataset con pandas"
      ]
    },
    {
      "cell_type": "code",
      "metadata": {
        "id": "85fyII-YRgYG"
      },
      "source": [
        "import pandas as pd\n",
        "import matplotlib.pyplot as plt"
      ],
      "execution_count": null,
      "outputs": []
    },
    {
      "cell_type": "code",
      "metadata": {
        "id": "ZuEEW5YQRhe9"
      },
      "source": [
        "d1 = pd.read_csv(FOLDER_DATASET + 'Dataset1.- DatosConsumoAlimentarioMAPAporCCAA.txt', sep='|', index_col=0)\n",
        "print(\"size:\", d1.size)\n",
        "d1.head(100)"
      ],
      "execution_count": null,
      "outputs": []
    },
    {
      "cell_type": "code",
      "metadata": {
        "id": "G2HuLVlRSBKW"
      },
      "source": [
        "d2 = pd.read_csv(FOLDER_DATASET + 'Dataset2.- Precios Semanales Observatorio de Precios Junta de Andalucia.txt', sep='|', index_col=0)\n",
        "print(\"size:\", d2.size)\n",
        "if MOSTRAR_5_PRIMERAS_FILAS_CADA_UNO:\n",
        "  d2.head(5)"
      ],
      "execution_count": null,
      "outputs": []
    },
    {
      "cell_type": "code",
      "metadata": {
        "id": "dYXbp4tJSBQP"
      },
      "source": [
        "d3_A = pd.read_csv(FOLDER_DATASET + 'Dataset3a_Datos_MercaMadrid.txt', sep='|', index_col=0)\n",
        "print(\"size:\", d3_A.size)\n",
        "if MOSTRAR_5_PRIMERAS_FILAS_CADA_UNO:\n",
        "  d3_A.head(5)"
      ],
      "execution_count": null,
      "outputs": []
    },
    {
      "cell_type": "code",
      "metadata": {
        "id": "9aS2iYqESBSv"
      },
      "source": [
        "d3_B = pd.read_csv(FOLDER_DATASET + 'Dataset3a_Datos_MercaMadrid.txt', sep='|', index_col=0)\n",
        "print(\"size:\", d3_B.size)\n",
        "if MOSTRAR_5_PRIMERAS_FILAS_CADA_UNO:\n",
        "  d3_B.head(5)"
      ],
      "execution_count": null,
      "outputs": []
    },
    {
      "cell_type": "code",
      "metadata": {
        "id": "v-XckZV6SBU-"
      },
      "source": [
        "d4 = pd.read_csv(FOLDER_DATASET + 'Dataset4.- Comercio Exterior de Espa¤a.txt', sep='|', index_col=0)\n",
        "print(\"size:\", d4.size)\n",
        "if MOSTRAR_5_PRIMERAS_FILAS_CADA_UNO:\n",
        "  d4.head(5)"
      ],
      "execution_count": null,
      "outputs": []
    },
    {
      "cell_type": "code",
      "metadata": {
        "id": "t7ZrfEo9SBXf"
      },
      "source": [
        "d5 = pd.read_csv(FOLDER_DATASET + 'Dataset5_Coronavirus_cases.txt', sep='|', index_col=0)\n",
        "print(\"size:\", d5.size)\n",
        "if MOSTRAR_5_PRIMERAS_FILAS_CADA_UNO:\n",
        "  d5.head(5)"
      ],
      "execution_count": null,
      "outputs": []
    },
    {
      "cell_type": "markdown",
      "metadata": {
        "id": "hNX-LBOyb-p5"
      },
      "source": [
        "# Histogramas"
      ]
    },
    {
      "cell_type": "code",
      "metadata": {
        "id": "csJgv8CBcAsw"
      },
      "source": [
        "data_d1 = d1['Volumen (miles de kg)']\n",
        "plt.hist(data_d1)"
      ],
      "execution_count": null,
      "outputs": []
    },
    {
      "cell_type": "code",
      "metadata": {
        "id": "MyvnDnP2cBJ9",
        "outputId": "9b8a5ae3-527f-43b8-911e-9d82508c851f",
        "colab": {
          "base_uri": "https://localhost:8080/"
        }
      },
      "source": [
        "data_d1 = d1['Valor (miles de €)']\n",
        "plt.hist(data_d1)"
      ],
      "execution_count": null,
      "outputs": [
        {
          "output_type": "execute_result",
          "data": {
            "text/plain": [
              "(array([3575., 2630., 2628., 2623., 2611., 2552., 2557., 2514., 2478.,\n",
              "        2466.]),\n",
              " array([    0. ,  2449.8,  4899.6,  7349.4,  9799.2, 12249. , 14698.8,\n",
              "        17148.6, 19598.4, 22048.2, 24498. ]),\n",
              " <a list of 10 Patch objects>)"
            ]
          },
          "metadata": {
            "tags": []
          },
          "execution_count": 38
        }
      ]
    },
    {
      "cell_type": "code",
      "metadata": {
        "id": "KlpdOEU5cBMw"
      },
      "source": [
        ""
      ],
      "execution_count": null,
      "outputs": []
    },
    {
      "cell_type": "code",
      "metadata": {
        "id": "VdxRGiyucBQH"
      },
      "source": [
        ""
      ],
      "execution_count": null,
      "outputs": []
    },
    {
      "cell_type": "code",
      "metadata": {
        "id": "6bv1TK_CcBUT"
      },
      "source": [
        ""
      ],
      "execution_count": null,
      "outputs": []
    },
    {
      "cell_type": "code",
      "metadata": {
        "id": "Vfl3DY21cBYU"
      },
      "source": [
        ""
      ],
      "execution_count": null,
      "outputs": []
    },
    {
      "cell_type": "markdown",
      "metadata": {
        "id": "ePnzotZbTZR_"
      },
      "source": [
        "# Limpio los datos"
      ]
    },
    {
      "cell_type": "code",
      "metadata": {
        "id": "I-yLIo_nTJuX"
      },
      "source": [
        ""
      ],
      "execution_count": null,
      "outputs": []
    },
    {
      "cell_type": "code",
      "metadata": {
        "id": "fM8LKnwvTJwt"
      },
      "source": [
        ""
      ],
      "execution_count": null,
      "outputs": []
    },
    {
      "cell_type": "code",
      "metadata": {
        "id": "mkniJD9hTJzY"
      },
      "source": [
        ""
      ],
      "execution_count": null,
      "outputs": []
    }
  ]
}