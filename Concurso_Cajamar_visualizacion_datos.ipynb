{
  "nbformat": 4,
  "nbformat_minor": 0,
  "metadata": {
    "colab": {
      "name": "Datos externos: archivos locales, Drive, Hojas de cálculo y Cloud Storage",
      "provenance": [],
      "collapsed_sections": [],
      "include_colab_link": true
    },
    "kernelspec": {
      "display_name": "Python 3",
      "name": "python3"
    },
    "accelerator": "GPU"
  },
  "cells": [
    {
      "cell_type": "markdown",
      "metadata": {
        "id": "view-in-github",
        "colab_type": "text"
      },
      "source": [
        "<a href=\"https://colab.research.google.com/github/wisrovi/visualizacion-cajamar/blob/main/Concurso_Cajamar_visualizacion_datos.ipynb\" target=\"_parent\"><img src=\"https://colab.research.google.com/assets/colab-badge.svg\" alt=\"Open In Colab\"/></a>"
      ]
    },
    {
      "cell_type": "markdown",
      "metadata": {
        "id": "7Z2jcRKwUHqV"
      },
      "source": [
        "Este cuaderno contiene recetas para cargar y guardar datos procedentes de fuentes externas."
      ]
    },
    {
      "cell_type": "markdown",
      "metadata": {
        "id": "eikfzi8ZT_rW"
      },
      "source": [
        "# Obtener los dataset de CAJAMAR"
      ]
    },
    {
      "cell_type": "code",
      "metadata": {
        "id": "6bw7-qNhQjPu",
        "outputId": "669168b3-1acc-461b-d0b3-b957ac611099",
        "colab": {
          "base_uri": "https://localhost:8080/"
        }
      },
      "source": [
        "!git clone https://github.com/wisrovi/visualizacion-cajamar"
      ],
      "execution_count": 2,
      "outputs": [
        {
          "output_type": "stream",
          "text": [
            "Cloning into 'visualizacion-cajamar'...\n",
            "remote: Enumerating objects: 15, done.\u001b[K\n",
            "remote: Counting objects: 100% (15/15), done.\u001b[K\n",
            "remote: Compressing objects: 100% (13/13), done.\u001b[K\n",
            "remote: Total 15 (delta 2), reused 5 (delta 1), pack-reused 0\u001b[K\n",
            "Unpacking objects: 100% (15/15), done.\n"
          ],
          "name": "stdout"
        }
      ]
    },
    {
      "cell_type": "code",
      "metadata": {
        "id": "tCOSWvUoRPOV",
        "outputId": "0b800429-ccdf-4db0-a365-7c5c011a578f",
        "colab": {
          "base_uri": "https://localhost:8080/"
        }
      },
      "source": [
        "!ls 'visualizacion-cajamar/'"
      ],
      "execution_count": 3,
      "outputs": [
        {
          "output_type": "stream",
          "text": [
            "'Dataset1.- DatosConsumoAlimentarioMAPAporCCAA.txt'\n",
            "'Dataset2.- Precios Semanales Observatorio de Precios Junta de Andalucia.txt'\n",
            " Dataset3a_Datos_MercaMadrid.txt\n",
            " Dataset3b_Datos_MercaBarna.txt\n",
            "'Dataset4.- Comercio Exterior de Espa¤a.txt'\n",
            " Dataset5_Coronavirus_cases.txt\n",
            " LICENSE\n",
            " README.md\n"
          ],
          "name": "stdout"
        }
      ]
    },
    {
      "cell_type": "code",
      "metadata": {
        "id": "w2DUDhkjRssr"
      },
      "source": [
        "FOLDER_DATASET = 'visualizacion-cajamar/'"
      ],
      "execution_count": 9,
      "outputs": []
    },
    {
      "cell_type": "markdown",
      "metadata": {
        "id": "mcd8sNxTRdaV"
      },
      "source": [
        "# Leer los dataset con pandas"
      ]
    },
    {
      "cell_type": "code",
      "metadata": {
        "id": "85fyII-YRgYG"
      },
      "source": [
        "import pandas as pd"
      ],
      "execution_count": 5,
      "outputs": []
    },
    {
      "cell_type": "code",
      "metadata": {
        "id": "ZuEEW5YQRhe9",
        "outputId": "10343617-e6e1-4704-f20d-e5054f22ac04",
        "colab": {
          "base_uri": "https://localhost:8080/",
          "height": 337
        }
      },
      "source": [
        "d1 = pd.read_csv(FOLDER_DATASET + 'Dataset1.- DatosConsumoAlimentarioMAPAporCCAA.txt', sep='|', index_col=0)\n",
        "d1.head(5)"
      ],
      "execution_count": 20,
      "outputs": [
        {
          "output_type": "execute_result",
          "data": {
            "text/html": [
              "<div>\n",
              "<style scoped>\n",
              "    .dataframe tbody tr th:only-of-type {\n",
              "        vertical-align: middle;\n",
              "    }\n",
              "\n",
              "    .dataframe tbody tr th {\n",
              "        vertical-align: top;\n",
              "    }\n",
              "\n",
              "    .dataframe thead th {\n",
              "        text-align: right;\n",
              "    }\n",
              "</style>\n",
              "<table border=\"1\" class=\"dataframe\">\n",
              "  <thead>\n",
              "    <tr style=\"text-align: right;\">\n",
              "      <th></th>\n",
              "      <th>Mes</th>\n",
              "      <th>CCAA</th>\n",
              "      <th>Producto</th>\n",
              "      <th>Volumen (miles de kg)</th>\n",
              "      <th>Valor (miles de €)</th>\n",
              "      <th>Precio medio kg</th>\n",
              "      <th>Penetración (%)</th>\n",
              "      <th>Consumo per capita</th>\n",
              "      <th>Gasto per capita</th>\n",
              "      <th>Unnamed: 10</th>\n",
              "      <th>Unnamed: 11</th>\n",
              "    </tr>\n",
              "    <tr>\n",
              "      <th>Año</th>\n",
              "      <th></th>\n",
              "      <th></th>\n",
              "      <th></th>\n",
              "      <th></th>\n",
              "      <th></th>\n",
              "      <th></th>\n",
              "      <th></th>\n",
              "      <th></th>\n",
              "      <th></th>\n",
              "      <th></th>\n",
              "      <th></th>\n",
              "    </tr>\n",
              "  </thead>\n",
              "  <tbody>\n",
              "    <tr>\n",
              "      <th>2018</th>\n",
              "      <td>Enero</td>\n",
              "      <td>Total Nacional</td>\n",
              "      <td>TOTAL PATATAS</td>\n",
              "      <td>108430,72</td>\n",
              "      <td>84640,08</td>\n",
              "      <td>0,78</td>\n",
              "      <td>79,4</td>\n",
              "      <td>2,38</td>\n",
              "      <td>1,85</td>\n",
              "      <td>NaN</td>\n",
              "      <td>NaN</td>\n",
              "    </tr>\n",
              "    <tr>\n",
              "      <th>2018</th>\n",
              "      <td>Enero</td>\n",
              "      <td>Total Nacional</td>\n",
              "      <td>PATATAS FRESCAS</td>\n",
              "      <td>79445,66</td>\n",
              "      <td>54688,29</td>\n",
              "      <td>0,69</td>\n",
              "      <td>68,46</td>\n",
              "      <td>1,74</td>\n",
              "      <td>1,2</td>\n",
              "      <td>NaN</td>\n",
              "      <td>NaN</td>\n",
              "    </tr>\n",
              "    <tr>\n",
              "      <th>2018</th>\n",
              "      <td>Enero</td>\n",
              "      <td>Total Nacional</td>\n",
              "      <td>PATATAS CONGELADAS</td>\n",
              "      <td>3999,9</td>\n",
              "      <td>4857,79</td>\n",
              "      <td>1,21</td>\n",
              "      <td>12,06</td>\n",
              "      <td>0,09</td>\n",
              "      <td>0,11</td>\n",
              "      <td>NaN</td>\n",
              "      <td>NaN</td>\n",
              "    </tr>\n",
              "    <tr>\n",
              "      <th>2018</th>\n",
              "      <td>Enero</td>\n",
              "      <td>Total Nacional</td>\n",
              "      <td>PATATAS PROCESADAS</td>\n",
              "      <td>4997,03</td>\n",
              "      <td>25094</td>\n",
              "      <td>5,02</td>\n",
              "      <td>45,94</td>\n",
              "      <td>0,11</td>\n",
              "      <td>0,55</td>\n",
              "      <td>NaN</td>\n",
              "      <td>NaN</td>\n",
              "    </tr>\n",
              "    <tr>\n",
              "      <th>2018</th>\n",
              "      <td>Enero</td>\n",
              "      <td>Total Nacional</td>\n",
              "      <td>T.HORTALIZAS FRESCAS</td>\n",
              "      <td>209957,24</td>\n",
              "      <td>376688,56</td>\n",
              "      <td>1,79</td>\n",
              "      <td>97,27</td>\n",
              "      <td>4,6</td>\n",
              "      <td>8,25</td>\n",
              "      <td>NaN</td>\n",
              "      <td>NaN</td>\n",
              "    </tr>\n",
              "  </tbody>\n",
              "</table>\n",
              "</div>"
            ],
            "text/plain": [
              "        Mes            CCAA  ... Unnamed: 10 Unnamed: 11\n",
              "Año                          ...                        \n",
              "2018  Enero  Total Nacional  ...         NaN         NaN\n",
              "2018  Enero  Total Nacional  ...         NaN         NaN\n",
              "2018  Enero  Total Nacional  ...         NaN         NaN\n",
              "2018  Enero  Total Nacional  ...         NaN         NaN\n",
              "2018  Enero  Total Nacional  ...         NaN         NaN\n",
              "\n",
              "[5 rows x 11 columns]"
            ]
          },
          "metadata": {
            "tags": []
          },
          "execution_count": 20
        }
      ]
    },
    {
      "cell_type": "code",
      "metadata": {
        "id": "G2HuLVlRSBKW",
        "outputId": "e9d3e5f9-4687-4260-b8ff-4a74325fc6c8",
        "colab": {
          "base_uri": "https://localhost:8080/",
          "height": 233
        }
      },
      "source": [
        "d2 = pd.read_csv(FOLDER_DATASET + 'Dataset2.- Precios Semanales Observatorio de Precios Junta de Andalucia.txt', sep='|', index_col=0)\n",
        "d2.head(5)"
      ],
      "execution_count": 14,
      "outputs": [
        {
          "output_type": "execute_result",
          "data": {
            "text/html": [
              "<div>\n",
              "<style scoped>\n",
              "    .dataframe tbody tr th:only-of-type {\n",
              "        vertical-align: middle;\n",
              "    }\n",
              "\n",
              "    .dataframe tbody tr th {\n",
              "        vertical-align: top;\n",
              "    }\n",
              "\n",
              "    .dataframe thead th {\n",
              "        text-align: right;\n",
              "    }\n",
              "</style>\n",
              "<table border=\"1\" class=\"dataframe\">\n",
              "  <thead>\n",
              "    <tr style=\"text-align: right;\">\n",
              "      <th></th>\n",
              "      <th>FIN</th>\n",
              "      <th>GRUPO</th>\n",
              "      <th>SECTOR</th>\n",
              "      <th>SUBSECTOR</th>\n",
              "      <th>PRODUCTO</th>\n",
              "      <th>TIPO</th>\n",
              "      <th>SUBTIPO</th>\n",
              "      <th>POSICION</th>\n",
              "      <th>CATEGORIA</th>\n",
              "      <th>FORMATO</th>\n",
              "      <th>PRECIO</th>\n",
              "      <th>UNIDAD</th>\n",
              "    </tr>\n",
              "    <tr>\n",
              "      <th>INICIO</th>\n",
              "      <th></th>\n",
              "      <th></th>\n",
              "      <th></th>\n",
              "      <th></th>\n",
              "      <th></th>\n",
              "      <th></th>\n",
              "      <th></th>\n",
              "      <th></th>\n",
              "      <th></th>\n",
              "      <th></th>\n",
              "      <th></th>\n",
              "      <th></th>\n",
              "    </tr>\n",
              "  </thead>\n",
              "  <tbody>\n",
              "    <tr>\n",
              "      <th>01/01/2018</th>\n",
              "      <td>07/01/2018</td>\n",
              "      <td>Agrícola</td>\n",
              "      <td>Frutales</td>\n",
              "      <td>Citricos</td>\n",
              "      <td>LIMON</td>\n",
              "      <td>NaN</td>\n",
              "      <td>NaN</td>\n",
              "      <td>Mercas</td>\n",
              "      <td>NaN</td>\n",
              "      <td>NaN</td>\n",
              "      <td>0,92</td>\n",
              "      <td>Euros/kg</td>\n",
              "    </tr>\n",
              "    <tr>\n",
              "      <th>01/01/2018</th>\n",
              "      <td>07/01/2018</td>\n",
              "      <td>Agrícola</td>\n",
              "      <td>Frutales</td>\n",
              "      <td>Citricos</td>\n",
              "      <td>MANDARINA</td>\n",
              "      <td>NaN</td>\n",
              "      <td>NaN</td>\n",
              "      <td>Mercas</td>\n",
              "      <td>NaN</td>\n",
              "      <td>NaN</td>\n",
              "      <td>0,84</td>\n",
              "      <td>Euros/kg</td>\n",
              "    </tr>\n",
              "    <tr>\n",
              "      <th>01/01/2018</th>\n",
              "      <td>07/01/2018</td>\n",
              "      <td>Agrícola</td>\n",
              "      <td>Frutales</td>\n",
              "      <td>Citricos</td>\n",
              "      <td>NARANJA</td>\n",
              "      <td>NaN</td>\n",
              "      <td>NaN</td>\n",
              "      <td>Mercas</td>\n",
              "      <td>NaN</td>\n",
              "      <td>NaN</td>\n",
              "      <td>0,78</td>\n",
              "      <td>Euros/kg</td>\n",
              "    </tr>\n",
              "    <tr>\n",
              "      <th>01/01/2018</th>\n",
              "      <td>07/01/2018</td>\n",
              "      <td>Agrícola</td>\n",
              "      <td>Frutales</td>\n",
              "      <td>Citricos</td>\n",
              "      <td>POMELO</td>\n",
              "      <td>NaN</td>\n",
              "      <td>NaN</td>\n",
              "      <td>Mercas</td>\n",
              "      <td>NaN</td>\n",
              "      <td>NaN</td>\n",
              "      <td>1,01</td>\n",
              "      <td>Euros/kg</td>\n",
              "    </tr>\n",
              "    <tr>\n",
              "      <th>01/01/2018</th>\n",
              "      <td>07/01/2018</td>\n",
              "      <td>Agrícola</td>\n",
              "      <td>Frutales</td>\n",
              "      <td>Frutales no cítricos</td>\n",
              "      <td>AGUACATE</td>\n",
              "      <td>NaN</td>\n",
              "      <td>NaN</td>\n",
              "      <td>Mercas</td>\n",
              "      <td>NaN</td>\n",
              "      <td>NaN</td>\n",
              "      <td>3,77</td>\n",
              "      <td>Euros/kg</td>\n",
              "    </tr>\n",
              "  </tbody>\n",
              "</table>\n",
              "</div>"
            ],
            "text/plain": [
              "                   FIN     GRUPO    SECTOR  ... FORMATO PRECIO    UNIDAD\n",
              "INICIO                                      ...                         \n",
              "01/01/2018  07/01/2018  Agrícola  Frutales  ...     NaN   0,92  Euros/kg\n",
              "01/01/2018  07/01/2018  Agrícola  Frutales  ...     NaN   0,84  Euros/kg\n",
              "01/01/2018  07/01/2018  Agrícola  Frutales  ...     NaN   0,78  Euros/kg\n",
              "01/01/2018  07/01/2018  Agrícola  Frutales  ...     NaN   1,01  Euros/kg\n",
              "01/01/2018  07/01/2018  Agrícola  Frutales  ...     NaN   3,77  Euros/kg\n",
              "\n",
              "[5 rows x 12 columns]"
            ]
          },
          "metadata": {
            "tags": []
          },
          "execution_count": 14
        }
      ]
    },
    {
      "cell_type": "code",
      "metadata": {
        "id": "dYXbp4tJSBQP",
        "outputId": "2d83b440-f900-4006-ef87-e71a31e57766",
        "colab": {
          "base_uri": "https://localhost:8080/",
          "height": 233
        }
      },
      "source": [
        "d3_A = pd.read_csv(FOLDER_DATASET + 'Dataset3a_Datos_MercaMadrid.txt', sep='|', index_col=0)\n",
        "d3_A.head(5)"
      ],
      "execution_count": 17,
      "outputs": [
        {
          "output_type": "execute_result",
          "data": {
            "text/html": [
              "<div>\n",
              "<style scoped>\n",
              "    .dataframe tbody tr th:only-of-type {\n",
              "        vertical-align: middle;\n",
              "    }\n",
              "\n",
              "    .dataframe tbody tr th {\n",
              "        vertical-align: top;\n",
              "    }\n",
              "\n",
              "    .dataframe thead th {\n",
              "        text-align: right;\n",
              "    }\n",
              "</style>\n",
              "<table border=\"1\" class=\"dataframe\">\n",
              "  <thead>\n",
              "    <tr style=\"text-align: right;\">\n",
              "      <th></th>\n",
              "      <th>variedad</th>\n",
              "      <th>origen</th>\n",
              "      <th>Unidad</th>\n",
              "      <th>familia</th>\n",
              "      <th>YEAR</th>\n",
              "      <th>MONTH</th>\n",
              "      <th>price_mean</th>\n",
              "      <th>price_min</th>\n",
              "      <th>price_max</th>\n",
              "      <th>Volumen</th>\n",
              "    </tr>\n",
              "    <tr>\n",
              "      <th>product</th>\n",
              "      <th></th>\n",
              "      <th></th>\n",
              "      <th></th>\n",
              "      <th></th>\n",
              "      <th></th>\n",
              "      <th></th>\n",
              "      <th></th>\n",
              "      <th></th>\n",
              "      <th></th>\n",
              "      <th></th>\n",
              "    </tr>\n",
              "  </thead>\n",
              "  <tbody>\n",
              "    <tr>\n",
              "      <th>ACEITUNAS</th>\n",
              "      <td>ACEITUNAS</td>\n",
              "      <td>ALMERIA</td>\n",
              "      <td>kg</td>\n",
              "      <td>FRUTAS</td>\n",
              "      <td>2018</td>\n",
              "      <td>2</td>\n",
              "      <td>3,46</td>\n",
              "      <td>3,31</td>\n",
              "      <td>3,61</td>\n",
              "      <td>6700</td>\n",
              "    </tr>\n",
              "    <tr>\n",
              "      <th>ACEITUNAS</th>\n",
              "      <td>ACEITUNAS</td>\n",
              "      <td>ALMERIA</td>\n",
              "      <td>kg</td>\n",
              "      <td>FRUTAS</td>\n",
              "      <td>2018</td>\n",
              "      <td>4</td>\n",
              "      <td>3,46</td>\n",
              "      <td>3,31</td>\n",
              "      <td>3,61</td>\n",
              "      <td>400</td>\n",
              "    </tr>\n",
              "    <tr>\n",
              "      <th>ACEITUNAS</th>\n",
              "      <td>ACEITUNAS</td>\n",
              "      <td>ALMERIA</td>\n",
              "      <td>kg</td>\n",
              "      <td>FRUTAS</td>\n",
              "      <td>2018</td>\n",
              "      <td>5</td>\n",
              "      <td>3,46</td>\n",
              "      <td>3,31</td>\n",
              "      <td>3,61</td>\n",
              "      <td>260</td>\n",
              "    </tr>\n",
              "    <tr>\n",
              "      <th>ACEITUNAS</th>\n",
              "      <td>ACEITUNAS</td>\n",
              "      <td>BADAJOZ</td>\n",
              "      <td>kg</td>\n",
              "      <td>FRUTAS</td>\n",
              "      <td>2018</td>\n",
              "      <td>4</td>\n",
              "      <td>3,46</td>\n",
              "      <td>3,31</td>\n",
              "      <td>3,61</td>\n",
              "      <td>24060</td>\n",
              "    </tr>\n",
              "    <tr>\n",
              "      <th>ACEITUNAS</th>\n",
              "      <td>ACEITUNAS</td>\n",
              "      <td>BARCELONA</td>\n",
              "      <td>kg</td>\n",
              "      <td>ULTRAMARINO</td>\n",
              "      <td>2019</td>\n",
              "      <td>2</td>\n",
              "      <td>0</td>\n",
              "      <td>0</td>\n",
              "      <td>0</td>\n",
              "      <td>1000</td>\n",
              "    </tr>\n",
              "  </tbody>\n",
              "</table>\n",
              "</div>"
            ],
            "text/plain": [
              "            variedad     origen Unidad  ... price_min  price_max  Volumen\n",
              "product                                 ...                              \n",
              "ACEITUNAS  ACEITUNAS    ALMERIA     kg  ...      3,31       3,61     6700\n",
              "ACEITUNAS  ACEITUNAS    ALMERIA     kg  ...      3,31       3,61      400\n",
              "ACEITUNAS  ACEITUNAS    ALMERIA     kg  ...      3,31       3,61      260\n",
              "ACEITUNAS  ACEITUNAS    BADAJOZ     kg  ...      3,31       3,61    24060\n",
              "ACEITUNAS  ACEITUNAS  BARCELONA     kg  ...         0          0     1000\n",
              "\n",
              "[5 rows x 10 columns]"
            ]
          },
          "metadata": {
            "tags": []
          },
          "execution_count": 17
        }
      ]
    },
    {
      "cell_type": "code",
      "metadata": {
        "id": "9aS2iYqESBSv",
        "outputId": "e65782b4-1b32-4548-8b65-874c50309f5f",
        "colab": {
          "base_uri": "https://localhost:8080/",
          "height": 233
        }
      },
      "source": [
        "d3_B = pd.read_csv(FOLDER_DATASET + 'Dataset3a_Datos_MercaMadrid.txt', sep='|', index_col=0)\n",
        "d3_B.head(5)"
      ],
      "execution_count": 18,
      "outputs": [
        {
          "output_type": "execute_result",
          "data": {
            "text/html": [
              "<div>\n",
              "<style scoped>\n",
              "    .dataframe tbody tr th:only-of-type {\n",
              "        vertical-align: middle;\n",
              "    }\n",
              "\n",
              "    .dataframe tbody tr th {\n",
              "        vertical-align: top;\n",
              "    }\n",
              "\n",
              "    .dataframe thead th {\n",
              "        text-align: right;\n",
              "    }\n",
              "</style>\n",
              "<table border=\"1\" class=\"dataframe\">\n",
              "  <thead>\n",
              "    <tr style=\"text-align: right;\">\n",
              "      <th></th>\n",
              "      <th>variedad</th>\n",
              "      <th>origen</th>\n",
              "      <th>Unidad</th>\n",
              "      <th>familia</th>\n",
              "      <th>YEAR</th>\n",
              "      <th>MONTH</th>\n",
              "      <th>price_mean</th>\n",
              "      <th>price_min</th>\n",
              "      <th>price_max</th>\n",
              "      <th>Volumen</th>\n",
              "    </tr>\n",
              "    <tr>\n",
              "      <th>product</th>\n",
              "      <th></th>\n",
              "      <th></th>\n",
              "      <th></th>\n",
              "      <th></th>\n",
              "      <th></th>\n",
              "      <th></th>\n",
              "      <th></th>\n",
              "      <th></th>\n",
              "      <th></th>\n",
              "      <th></th>\n",
              "    </tr>\n",
              "  </thead>\n",
              "  <tbody>\n",
              "    <tr>\n",
              "      <th>ACEITUNAS</th>\n",
              "      <td>ACEITUNAS</td>\n",
              "      <td>ALMERIA</td>\n",
              "      <td>kg</td>\n",
              "      <td>FRUTAS</td>\n",
              "      <td>2018</td>\n",
              "      <td>2</td>\n",
              "      <td>3,46</td>\n",
              "      <td>3,31</td>\n",
              "      <td>3,61</td>\n",
              "      <td>6700</td>\n",
              "    </tr>\n",
              "    <tr>\n",
              "      <th>ACEITUNAS</th>\n",
              "      <td>ACEITUNAS</td>\n",
              "      <td>ALMERIA</td>\n",
              "      <td>kg</td>\n",
              "      <td>FRUTAS</td>\n",
              "      <td>2018</td>\n",
              "      <td>4</td>\n",
              "      <td>3,46</td>\n",
              "      <td>3,31</td>\n",
              "      <td>3,61</td>\n",
              "      <td>400</td>\n",
              "    </tr>\n",
              "    <tr>\n",
              "      <th>ACEITUNAS</th>\n",
              "      <td>ACEITUNAS</td>\n",
              "      <td>ALMERIA</td>\n",
              "      <td>kg</td>\n",
              "      <td>FRUTAS</td>\n",
              "      <td>2018</td>\n",
              "      <td>5</td>\n",
              "      <td>3,46</td>\n",
              "      <td>3,31</td>\n",
              "      <td>3,61</td>\n",
              "      <td>260</td>\n",
              "    </tr>\n",
              "    <tr>\n",
              "      <th>ACEITUNAS</th>\n",
              "      <td>ACEITUNAS</td>\n",
              "      <td>BADAJOZ</td>\n",
              "      <td>kg</td>\n",
              "      <td>FRUTAS</td>\n",
              "      <td>2018</td>\n",
              "      <td>4</td>\n",
              "      <td>3,46</td>\n",
              "      <td>3,31</td>\n",
              "      <td>3,61</td>\n",
              "      <td>24060</td>\n",
              "    </tr>\n",
              "    <tr>\n",
              "      <th>ACEITUNAS</th>\n",
              "      <td>ACEITUNAS</td>\n",
              "      <td>BARCELONA</td>\n",
              "      <td>kg</td>\n",
              "      <td>ULTRAMARINO</td>\n",
              "      <td>2019</td>\n",
              "      <td>2</td>\n",
              "      <td>0</td>\n",
              "      <td>0</td>\n",
              "      <td>0</td>\n",
              "      <td>1000</td>\n",
              "    </tr>\n",
              "  </tbody>\n",
              "</table>\n",
              "</div>"
            ],
            "text/plain": [
              "            variedad     origen Unidad  ... price_min  price_max  Volumen\n",
              "product                                 ...                              \n",
              "ACEITUNAS  ACEITUNAS    ALMERIA     kg  ...      3,31       3,61     6700\n",
              "ACEITUNAS  ACEITUNAS    ALMERIA     kg  ...      3,31       3,61      400\n",
              "ACEITUNAS  ACEITUNAS    ALMERIA     kg  ...      3,31       3,61      260\n",
              "ACEITUNAS  ACEITUNAS    BADAJOZ     kg  ...      3,31       3,61    24060\n",
              "ACEITUNAS  ACEITUNAS  BARCELONA     kg  ...         0          0     1000\n",
              "\n",
              "[5 rows x 10 columns]"
            ]
          },
          "metadata": {
            "tags": []
          },
          "execution_count": 18
        }
      ]
    },
    {
      "cell_type": "code",
      "metadata": {
        "id": "v-XckZV6SBU-",
        "outputId": "eafc7e25-22ac-4179-e00a-d1da31c75cad",
        "colab": {
          "base_uri": "https://localhost:8080/",
          "height": 233
        }
      },
      "source": [
        "d4 = pd.read_csv(FOLDER_DATASET + 'Dataset4.- Comercio Exterior de Espa¤a.txt', sep='|', index_col=0)\n",
        "d4.head(5)"
      ],
      "execution_count": 19,
      "outputs": [
        {
          "output_type": "execute_result",
          "data": {
            "text/html": [
              "<div>\n",
              "<style scoped>\n",
              "    .dataframe tbody tr th:only-of-type {\n",
              "        vertical-align: middle;\n",
              "    }\n",
              "\n",
              "    .dataframe tbody tr th {\n",
              "        vertical-align: top;\n",
              "    }\n",
              "\n",
              "    .dataframe thead th {\n",
              "        text-align: right;\n",
              "    }\n",
              "</style>\n",
              "<table border=\"1\" class=\"dataframe\">\n",
              "  <thead>\n",
              "    <tr style=\"text-align: right;\">\n",
              "      <th></th>\n",
              "      <th>REPORTER</th>\n",
              "      <th>PARTNER</th>\n",
              "      <th>PRODUCT</th>\n",
              "      <th>FLOW</th>\n",
              "      <th>INDICATORS</th>\n",
              "      <th>Value</th>\n",
              "    </tr>\n",
              "    <tr>\n",
              "      <th>PERIOD</th>\n",
              "      <th></th>\n",
              "      <th></th>\n",
              "      <th></th>\n",
              "      <th></th>\n",
              "      <th></th>\n",
              "      <th></th>\n",
              "    </tr>\n",
              "  </thead>\n",
              "  <tbody>\n",
              "    <tr>\n",
              "      <th>Jan. 2018</th>\n",
              "      <td>Austria</td>\n",
              "      <td>ES</td>\n",
              "      <td>Bananas, fresh (excl. plantains)(2012-2500)</td>\n",
              "      <td>IMPORT</td>\n",
              "      <td>VALUE_IN_EUROS</td>\n",
              "      <td>:</td>\n",
              "    </tr>\n",
              "    <tr>\n",
              "      <th>Jan. 2018</th>\n",
              "      <td>Austria</td>\n",
              "      <td>ES</td>\n",
              "      <td>Bananas, fresh (excl. plantains)(2012-2500)</td>\n",
              "      <td>IMPORT</td>\n",
              "      <td>QUANTITY_IN_100KG</td>\n",
              "      <td>:</td>\n",
              "    </tr>\n",
              "    <tr>\n",
              "      <th>Jan. 2018</th>\n",
              "      <td>Austria</td>\n",
              "      <td>ES</td>\n",
              "      <td>Bananas, fresh (excl. plantains)(2012-2500)</td>\n",
              "      <td>EXPORT</td>\n",
              "      <td>VALUE_IN_EUROS</td>\n",
              "      <td>:</td>\n",
              "    </tr>\n",
              "    <tr>\n",
              "      <th>Jan. 2018</th>\n",
              "      <td>Austria</td>\n",
              "      <td>ES</td>\n",
              "      <td>Bananas, fresh (excl. plantains)(2012-2500)</td>\n",
              "      <td>EXPORT</td>\n",
              "      <td>QUANTITY_IN_100KG</td>\n",
              "      <td>:</td>\n",
              "    </tr>\n",
              "    <tr>\n",
              "      <th>Feb. 2018</th>\n",
              "      <td>Austria</td>\n",
              "      <td>ES</td>\n",
              "      <td>Bananas, fresh (excl. plantains)(2012-2500)</td>\n",
              "      <td>IMPORT</td>\n",
              "      <td>VALUE_IN_EUROS</td>\n",
              "      <td>:</td>\n",
              "    </tr>\n",
              "  </tbody>\n",
              "</table>\n",
              "</div>"
            ],
            "text/plain": [
              "          REPORTER PARTNER  ...         INDICATORS Value\n",
              "PERIOD                      ...                         \n",
              "Jan. 2018  Austria      ES  ...     VALUE_IN_EUROS     :\n",
              "Jan. 2018  Austria      ES  ...  QUANTITY_IN_100KG     :\n",
              "Jan. 2018  Austria      ES  ...     VALUE_IN_EUROS     :\n",
              "Jan. 2018  Austria      ES  ...  QUANTITY_IN_100KG     :\n",
              "Feb. 2018  Austria      ES  ...     VALUE_IN_EUROS     :\n",
              "\n",
              "[5 rows x 6 columns]"
            ]
          },
          "metadata": {
            "tags": []
          },
          "execution_count": 19
        }
      ]
    },
    {
      "cell_type": "code",
      "metadata": {
        "id": "t7ZrfEo9SBXf",
        "outputId": "707a638f-6cf4-4fdc-b2e5-279b2ea31ae2",
        "colab": {
          "base_uri": "https://localhost:8080/",
          "height": 270
        }
      },
      "source": [
        "d5 = pd.read_csv(FOLDER_DATASET + 'Dataset5_Coronavirus_cases.txt', sep='|', index_col=0)\n",
        "d5.head(5)"
      ],
      "execution_count": 21,
      "outputs": [
        {
          "output_type": "execute_result",
          "data": {
            "text/html": [
              "<div>\n",
              "<style scoped>\n",
              "    .dataframe tbody tr th:only-of-type {\n",
              "        vertical-align: middle;\n",
              "    }\n",
              "\n",
              "    .dataframe tbody tr th {\n",
              "        vertical-align: top;\n",
              "    }\n",
              "\n",
              "    .dataframe thead th {\n",
              "        text-align: right;\n",
              "    }\n",
              "</style>\n",
              "<table border=\"1\" class=\"dataframe\">\n",
              "  <thead>\n",
              "    <tr style=\"text-align: right;\">\n",
              "      <th></th>\n",
              "      <th>day</th>\n",
              "      <th>month</th>\n",
              "      <th>year</th>\n",
              "      <th>cases</th>\n",
              "      <th>deaths</th>\n",
              "      <th>countriesAndTerritories</th>\n",
              "      <th>geoId</th>\n",
              "      <th>countryterritoryCode</th>\n",
              "      <th>popData2019</th>\n",
              "      <th>continentExp</th>\n",
              "      <th>Cumulative_number_for_14_days_of_COVID-19_cases_per_100000</th>\n",
              "    </tr>\n",
              "    <tr>\n",
              "      <th>dateRep</th>\n",
              "      <th></th>\n",
              "      <th></th>\n",
              "      <th></th>\n",
              "      <th></th>\n",
              "      <th></th>\n",
              "      <th></th>\n",
              "      <th></th>\n",
              "      <th></th>\n",
              "      <th></th>\n",
              "      <th></th>\n",
              "      <th></th>\n",
              "    </tr>\n",
              "  </thead>\n",
              "  <tbody>\n",
              "    <tr>\n",
              "      <th>29/11/2020</th>\n",
              "      <td>29</td>\n",
              "      <td>11</td>\n",
              "      <td>2020</td>\n",
              "      <td>228</td>\n",
              "      <td>11</td>\n",
              "      <td>Afghanistan</td>\n",
              "      <td>AF</td>\n",
              "      <td>AFG</td>\n",
              "      <td>38041757.0</td>\n",
              "      <td>Asia</td>\n",
              "      <td>6,8451097</td>\n",
              "    </tr>\n",
              "    <tr>\n",
              "      <th>28/11/2020</th>\n",
              "      <td>28</td>\n",
              "      <td>11</td>\n",
              "      <td>2020</td>\n",
              "      <td>214</td>\n",
              "      <td>15</td>\n",
              "      <td>Afghanistan</td>\n",
              "      <td>AF</td>\n",
              "      <td>AFG</td>\n",
              "      <td>38041757.0</td>\n",
              "      <td>Asia</td>\n",
              "      <td>6,78464983</td>\n",
              "    </tr>\n",
              "    <tr>\n",
              "      <th>27/11/2020</th>\n",
              "      <td>27</td>\n",
              "      <td>11</td>\n",
              "      <td>2020</td>\n",
              "      <td>0</td>\n",
              "      <td>0</td>\n",
              "      <td>Afghanistan</td>\n",
              "      <td>AF</td>\n",
              "      <td>AFG</td>\n",
              "      <td>38041757.0</td>\n",
              "      <td>Asia</td>\n",
              "      <td>6,39560365</td>\n",
              "    </tr>\n",
              "    <tr>\n",
              "      <th>26/11/2020</th>\n",
              "      <td>26</td>\n",
              "      <td>11</td>\n",
              "      <td>2020</td>\n",
              "      <td>200</td>\n",
              "      <td>12</td>\n",
              "      <td>Afghanistan</td>\n",
              "      <td>AF</td>\n",
              "      <td>AFG</td>\n",
              "      <td>38041757.0</td>\n",
              "      <td>Asia</td>\n",
              "      <td>7,34193218</td>\n",
              "    </tr>\n",
              "    <tr>\n",
              "      <th>25/11/2020</th>\n",
              "      <td>25</td>\n",
              "      <td>11</td>\n",
              "      <td>2020</td>\n",
              "      <td>185</td>\n",
              "      <td>13</td>\n",
              "      <td>Afghanistan</td>\n",
              "      <td>AF</td>\n",
              "      <td>AFG</td>\n",
              "      <td>38041757.0</td>\n",
              "      <td>Asia</td>\n",
              "      <td>7,1999829</td>\n",
              "    </tr>\n",
              "  </tbody>\n",
              "</table>\n",
              "</div>"
            ],
            "text/plain": [
              "            day  ...  Cumulative_number_for_14_days_of_COVID-19_cases_per_100000\n",
              "dateRep          ...                                                            \n",
              "29/11/2020   29  ...                                          6,8451097         \n",
              "28/11/2020   28  ...                                         6,78464983         \n",
              "27/11/2020   27  ...                                         6,39560365         \n",
              "26/11/2020   26  ...                                         7,34193218         \n",
              "25/11/2020   25  ...                                          7,1999829         \n",
              "\n",
              "[5 rows x 11 columns]"
            ]
          },
          "metadata": {
            "tags": []
          },
          "execution_count": 21
        }
      ]
    },
    {
      "cell_type": "code",
      "metadata": {
        "id": "Io0HfZdqTJr5"
      },
      "source": [
        ""
      ],
      "execution_count": null,
      "outputs": []
    },
    {
      "cell_type": "markdown",
      "metadata": {
        "id": "ePnzotZbTZR_"
      },
      "source": [
        "# Limpio los datos"
      ]
    },
    {
      "cell_type": "code",
      "metadata": {
        "id": "I-yLIo_nTJuX"
      },
      "source": [
        ""
      ],
      "execution_count": null,
      "outputs": []
    },
    {
      "cell_type": "code",
      "metadata": {
        "id": "fM8LKnwvTJwt"
      },
      "source": [
        ""
      ],
      "execution_count": null,
      "outputs": []
    },
    {
      "cell_type": "code",
      "metadata": {
        "id": "mkniJD9hTJzY"
      },
      "source": [
        ""
      ],
      "execution_count": null,
      "outputs": []
    }
  ]
}