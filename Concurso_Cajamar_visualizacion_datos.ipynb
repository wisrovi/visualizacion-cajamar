{
  "nbformat": 4,
  "nbformat_minor": 0,
  "metadata": {
    "colab": {
      "name": "Datos externos: archivos locales, Drive, Hojas de cálculo y Cloud Storage",
      "provenance": [],
      "collapsed_sections": [],
      "include_colab_link": true
    },
    "kernelspec": {
      "display_name": "Python 3",
      "name": "python3"
    }
  },
  "cells": [
    {
      "cell_type": "markdown",
      "metadata": {
        "id": "view-in-github",
        "colab_type": "text"
      },
      "source": [
        "<a href=\"https://colab.research.google.com/github/wisrovi/visualizacion-cajamar/blob/main/Concurso_Cajamar_visualizacion_datos.ipynb\" target=\"_parent\"><img src=\"https://colab.research.google.com/assets/colab-badge.svg\" alt=\"Open In Colab\"/></a>"
      ]
    },
    {
      "cell_type": "markdown",
      "metadata": {
        "id": "7Z2jcRKwUHqV"
      },
      "source": [
        "Este cuaderno contiene recetas para cargar y guardar datos procedentes de fuentes externas."
      ]
    },
    {
      "cell_type": "markdown",
      "metadata": {
        "id": "eikfzi8ZT_rW"
      },
      "source": [
        "# Obtener los dataset de CAJAMAR"
      ]
    },
    {
      "cell_type": "code",
      "metadata": {
        "id": "6bw7-qNhQjPu",
        "colab": {
          "base_uri": "https://localhost:8080/"
        },
        "outputId": "49aadb32-e8bf-47f3-d582-bafedb5e22ae"
      },
      "source": [
        "!git clone https://github.com/wisrovi/visualizacion-cajamar"
      ],
      "execution_count": 1,
      "outputs": [
        {
          "output_type": "stream",
          "text": [
            "Cloning into 'visualizacion-cajamar'...\n",
            "remote: Enumerating objects: 18, done.\u001b[K\n",
            "remote: Counting objects: 100% (18/18), done.\u001b[K\n",
            "remote: Compressing objects: 100% (16/16), done.\u001b[K\n",
            "remote: Total 18 (delta 3), reused 4 (delta 1), pack-reused 0\u001b[K\n",
            "Unpacking objects: 100% (18/18), done.\n"
          ],
          "name": "stdout"
        }
      ]
    },
    {
      "cell_type": "code",
      "metadata": {
        "id": "tCOSWvUoRPOV",
        "colab": {
          "base_uri": "https://localhost:8080/"
        },
        "outputId": "d0f11650-ee3a-4942-ee09-b26246c5724b"
      },
      "source": [
        "!ls 'visualizacion-cajamar/'"
      ],
      "execution_count": 2,
      "outputs": [
        {
          "output_type": "stream",
          "text": [
            " Concurso_Cajamar_visualizacion_datos.ipynb\n",
            "'Dataset1.- DatosConsumoAlimentarioMAPAporCCAA.txt'\n",
            "'Dataset2.- Precios Semanales Observatorio de Precios Junta de Andalucia.txt'\n",
            " Dataset3a_Datos_MercaMadrid.txt\n",
            " Dataset3b_Datos_MercaBarna.txt\n",
            "'Dataset4.- Comercio Exterior de Espa¤a.txt'\n",
            " Dataset5_Coronavirus_cases.txt\n",
            " LICENSE\n",
            " README.md\n"
          ],
          "name": "stdout"
        }
      ]
    },
    {
      "cell_type": "code",
      "metadata": {
        "id": "w2DUDhkjRssr"
      },
      "source": [
        "FOLDER_DATASET = 'visualizacion-cajamar/'"
      ],
      "execution_count": 3,
      "outputs": []
    },
    {
      "cell_type": "markdown",
      "metadata": {
        "id": "mcd8sNxTRdaV"
      },
      "source": [
        "# Leer los dataset con pandas"
      ]
    },
    {
      "cell_type": "code",
      "metadata": {
        "id": "85fyII-YRgYG"
      },
      "source": [
        "import pandas as pd"
      ],
      "execution_count": 4,
      "outputs": []
    },
    {
      "cell_type": "code",
      "metadata": {
        "id": "TT2QpDQtZrKD"
      },
      "source": [
        "MOSTRAR_5_PRIMERAS_FILAS_CADA_UNO = False"
      ],
      "execution_count": 18,
      "outputs": []
    },
    {
      "cell_type": "code",
      "metadata": {
        "id": "ZuEEW5YQRhe9",
        "colab": {
          "base_uri": "https://localhost:8080/"
        },
        "outputId": "1ed1bb59-e4fb-438d-960a-31d66ef752f6"
      },
      "source": [
        "d1 = pd.read_csv(FOLDER_DATASET + 'Dataset1.- DatosConsumoAlimentarioMAPAporCCAA.txt', sep='|', index_col=0)\n",
        "print(\"size:\", d1.size)\n",
        "if MOSTRAR_5_PRIMERAS_FILAS_CADA_UNO:\n",
        "  d1.head(5)"
      ],
      "execution_count": 25,
      "outputs": [
        {
          "output_type": "stream",
          "text": [
            "size: 292974\n"
          ],
          "name": "stdout"
        }
      ]
    },
    {
      "cell_type": "code",
      "metadata": {
        "id": "G2HuLVlRSBKW",
        "colab": {
          "base_uri": "https://localhost:8080/"
        },
        "outputId": "e7d34bd3-95f4-46fe-b8a4-11399d86c92a"
      },
      "source": [
        "d2 = pd.read_csv(FOLDER_DATASET + 'Dataset2.- Precios Semanales Observatorio de Precios Junta de Andalucia.txt', sep='|', index_col=0)\n",
        "print(\"size:\", d2.size)\n",
        "if MOSTRAR_5_PRIMERAS_FILAS_CADA_UNO:\n",
        "  d2.head(5)"
      ],
      "execution_count": 26,
      "outputs": [
        {
          "output_type": "stream",
          "text": [
            "size: 232884\n"
          ],
          "name": "stdout"
        }
      ]
    },
    {
      "cell_type": "code",
      "metadata": {
        "id": "dYXbp4tJSBQP",
        "colab": {
          "base_uri": "https://localhost:8080/"
        },
        "outputId": "b1aa6599-f005-4128-c9c1-0009d014bfa6"
      },
      "source": [
        "d3_A = pd.read_csv(FOLDER_DATASET + 'Dataset3a_Datos_MercaMadrid.txt', sep='|', index_col=0)\n",
        "print(\"size:\", d3_A.size)\n",
        "if MOSTRAR_5_PRIMERAS_FILAS_CADA_UNO:\n",
        "  d3_A.head(5)"
      ],
      "execution_count": 27,
      "outputs": [
        {
          "output_type": "stream",
          "text": [
            "size: 673150\n"
          ],
          "name": "stdout"
        }
      ]
    },
    {
      "cell_type": "code",
      "metadata": {
        "id": "9aS2iYqESBSv",
        "colab": {
          "base_uri": "https://localhost:8080/"
        },
        "outputId": "13288b18-6f49-416b-8f29-ecb1cad81e1d"
      },
      "source": [
        "d3_B = pd.read_csv(FOLDER_DATASET + 'Dataset3a_Datos_MercaMadrid.txt', sep='|', index_col=0)\n",
        "print(\"size:\", d3_B.size)\n",
        "if MOSTRAR_5_PRIMERAS_FILAS_CADA_UNO:\n",
        "  d3_B.head(5)"
      ],
      "execution_count": 28,
      "outputs": [
        {
          "output_type": "stream",
          "text": [
            "size: 673150\n"
          ],
          "name": "stdout"
        }
      ]
    },
    {
      "cell_type": "code",
      "metadata": {
        "id": "v-XckZV6SBU-",
        "colab": {
          "base_uri": "https://localhost:8080/"
        },
        "outputId": "934d00ea-ce62-4bb4-8484-2f20d1d99875"
      },
      "source": [
        "d4 = pd.read_csv(FOLDER_DATASET + 'Dataset4.- Comercio Exterior de Espa¤a.txt', sep='|', index_col=0)\n",
        "print(\"size:\", d4.size)\n",
        "if MOSTRAR_5_PRIMERAS_FILAS_CADA_UNO:\n",
        "  d4.head(5)"
      ],
      "execution_count": 29,
      "outputs": [
        {
          "output_type": "stream",
          "text": [
            "size: 2165856\n"
          ],
          "name": "stdout"
        }
      ]
    },
    {
      "cell_type": "code",
      "metadata": {
        "id": "t7ZrfEo9SBXf",
        "colab": {
          "base_uri": "https://localhost:8080/"
        },
        "outputId": "c78bd8dd-50e1-402f-c9a2-3a83f3a0508b"
      },
      "source": [
        "d5 = pd.read_csv(FOLDER_DATASET + 'Dataset5_Coronavirus_cases.txt', sep='|', index_col=0)\n",
        "print(\"size:\", d5.size)\n",
        "if MOSTRAR_5_PRIMERAS_FILAS_CADA_UNO:\n",
        "  d5.head(5)"
      ],
      "execution_count": 30,
      "outputs": [
        {
          "output_type": "stream",
          "text": [
            "size: 645590\n"
          ],
          "name": "stdout"
        }
      ]
    },
    {
      "cell_type": "markdown",
      "metadata": {
        "id": "ePnzotZbTZR_"
      },
      "source": [
        "# Limpio los datos"
      ]
    },
    {
      "cell_type": "code",
      "metadata": {
        "id": "I-yLIo_nTJuX"
      },
      "source": [
        ""
      ],
      "execution_count": null,
      "outputs": []
    },
    {
      "cell_type": "code",
      "metadata": {
        "id": "fM8LKnwvTJwt"
      },
      "source": [
        ""
      ],
      "execution_count": null,
      "outputs": []
    },
    {
      "cell_type": "code",
      "metadata": {
        "id": "mkniJD9hTJzY"
      },
      "source": [
        ""
      ],
      "execution_count": null,
      "outputs": []
    }
  ]
}